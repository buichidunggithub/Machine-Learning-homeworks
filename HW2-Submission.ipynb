{
 "cells": [
  {
   "cell_type": "markdown",
   "metadata": {},
   "source": [
    "# Bài tập 2\n",
    "\n",
    "Họ và tên: Bùi Chí Dũng - MSSV: 1712364"
   ]
  },
  {
   "cell_type": "markdown",
   "metadata": {},
   "source": [
    "## Câu 1 (1 điểm)"
   ]
  },
  {
   "cell_type": "code",
   "execution_count": 1,
   "metadata": {},
   "outputs": [],
   "source": [
    "import numpy as np"
   ]
  },
  {
   "cell_type": "code",
   "execution_count": 2,
   "metadata": {},
   "outputs": [],
   "source": [
    "N = 10 \n",
    "mu = 0.5 \n",
    "n_repeats = 100000 \n",
    "n_coins = 1000"
   ]
  },
  {
   "cell_type": "code",
   "execution_count": 3,
   "metadata": {},
   "outputs": [],
   "source": [
    "nus = np.random.binomial(N,mu,(n_repeats, n_coins)) / N"
   ]
  },
  {
   "cell_type": "code",
   "execution_count": 4,
   "metadata": {},
   "outputs": [
    {
     "data": {
      "text/plain": [
       "0.037738"
      ]
     },
     "execution_count": 4,
     "metadata": {},
     "output_type": "execute_result"
    }
   ],
   "source": [
    "np.mean(np.min(nus, axis = 1))"
   ]
  },
  {
   "cell_type": "markdown",
   "metadata": {
    "deletable": false,
    "nbgrader": {
     "cell_type": "markdown",
     "checksum": "2e83d862b3c5fd4fb57d72c50e8115f8",
     "grade": true,
     "grade_id": "c1",
     "locked": false,
     "points": 1,
     "schema_version": 3,
     "solution": true,
     "task": false
    }
   },
   "source": [
    "Kết quả em chạy ra được là vmin = 0.037359. Vậy đáp án gần nhất là [b] 0.01"
   ]
  },
  {
   "cell_type": "markdown",
   "metadata": {},
   "source": [
    "## Câu 2 (1 điểm)"
   ]
  },
  {
   "cell_type": "code",
   "execution_count": 5,
   "metadata": {},
   "outputs": [
    {
     "data": {
      "text/plain": [
       "array([0.6, 0.3, 0.7, ..., 0.2, 0.5, 0.7])"
      ]
     },
     "execution_count": 5,
     "metadata": {},
     "output_type": "execute_result"
    }
   ],
   "source": [
    "rows = np.arange(nus.shape[0])\n",
    "cols = np.random.choice(np.arange(nus.shape[1]), size = nus.shape[0])\n",
    "nus[rows,cols]"
   ]
  },
  {
   "cell_type": "code",
   "execution_count": 6,
   "metadata": {},
   "outputs": [
    {
     "name": "stdout",
     "output_type": "stream",
     "text": [
      "V1 =  0.5000530000000001\n",
      "Vrand =  0.5006879999999999\n",
      "Vmin =  0.037738\n"
     ]
    }
   ],
   "source": [
    "V1 = np.mean(nus[:, 0])\n",
    "Vrand = np.mean(nus[rows,cols])\n",
    "Vmin = np.mean(np.min(nus, axis=1))\n",
    "print(\"V1 = \", V1)\n",
    "print(\"Vrand = \", Vrand)\n",
    "print(\"Vmin = \", Vmin)"
   ]
  },
  {
   "cell_type": "markdown",
   "metadata": {
    "deletable": false,
    "nbgrader": {
     "cell_type": "markdown",
     "checksum": "47d4e2bb3e4812ef7b37e032a898cfec",
     "grade": true,
     "grade_id": "c2",
     "locked": false,
     "points": 1,
     "schema_version": 3,
     "solution": true,
     "task": false
    }
   },
   "source": [
    "Qua kết quả trên, ta thấy V1 và Vrand là gần bằng với mu=0.5 (vì fair coins nên các mu của c1,crand,cmin đều bằng nhau và bằng mu = 0.5). Chính vì vậy mà nó thỏa Hoeffding Inequality. Vậy, đáp án sẽ là [d] c1 and crand."
   ]
  },
  {
   "cell_type": "markdown",
   "metadata": {},
   "source": [
    "## Câu 3 (1 điểm)"
   ]
  },
  {
   "cell_type": "markdown",
   "metadata": {},
   "source": [
    "Ta có hypothesis function h(x), là hàm mà chúng ta train trên target function y = f(x), nhưng nó phát sinh lỗi với xác suất là μ. Sau khi tìm được h(x) chúng ta sẽ áp dụng đối với tập dữ liệu (có noise, dữ liệu thực tế).\n",
    "Xác suất h(x) sinh lỗi trong trường hợp dữ liệu không có nhiễu là μ, và xác suất ngược lại là 1 - μ.\n",
    "Đối với xác suất gây ra lỗi do nhiễu là 1 - λ với λ là xác suất dữ liệu có nhiễu nhưng không sinh lỗi. Vì đây là hàm nhị phân nên xác suất sinh ra lỗi khi áp dụng h(x) vào f(x) có nhiễu chính là: \n",
    "- Xác suất phát sinh lỗi do nhiễu (1 - λ), và không phát sinh lỗi (1-μ)\n",
    "hoặc\n",
    "- Xác suất không sinh lỗi do nhiễu (λ), và có phát sinh lỗi (μ)\n",
    "Vì vậy xác suất phát sinh lỗi khi h xấp xỉ y là:\n",
    "P(error) = P(noise error) * P(no mu error) + P(no noise error) * P(mu error)\n",
    "= (1 - λ) * (1-μ) + λ * μ"
   ]
  },
  {
   "cell_type": "markdown",
   "metadata": {
    "deletable": false,
    "nbgrader": {
     "cell_type": "markdown",
     "checksum": "0997a909d9ab1f250c2bfd0645fee970",
     "grade": true,
     "grade_id": "c3",
     "locked": false,
     "points": 1,
     "schema_version": 3,
     "solution": true,
     "task": false
    }
   },
   "source": [
    "Ta được xác suất:\n",
    "[e] (1 − λ) ∗ (1 − µ) + λ ∗ µ"
   ]
  },
  {
   "cell_type": "markdown",
   "metadata": {},
   "source": [
    "## Câu 4 (1 điểm)"
   ]
  },
  {
   "cell_type": "markdown",
   "metadata": {
    "deletable": false,
    "nbgrader": {
     "cell_type": "markdown",
     "checksum": "efabab5c4035a6864ac8cb3e0061c6f0",
     "grade": true,
     "grade_id": "c4",
     "locked": false,
     "points": 1,
     "schema_version": 3,
     "solution": true,
     "task": false
    }
   },
   "source": [
    "Giá trị của λ khi mà h độc lập với µ trong công thức μ(2λ−1)+1−λ khi μ bị triệt tiêu, cũng là khi 2λ−1 = 0. Dễ thấy 2λ−1 = 0 khi λ = 0.5.\n",
    "Chọn [b] 0.5"
   ]
  },
  {
   "cell_type": "markdown",
   "metadata": {},
   "source": [
    "## Câu 5 (1 điểm)"
   ]
  },
  {
   "cell_type": "code",
   "execution_count": 7,
   "metadata": {},
   "outputs": [],
   "source": [
    "import numpy as np\n",
    "d = 2 # Input vector dimentional (Trong đề là 2 chiều)\n",
    "def generate_Separable_Data(N):\n",
    "    #X: mảng Numpy, kích thước N x(d+1), N là số lượng mẫu huấn luyện, \n",
    "    #d là số chiều của vector input (chưa tính x0 = 1).\n",
    "    X = 2*np.random.rand(N, d+1)-1\n",
    "    X[:,0] = 1.0\n",
    "    xa = 2*np.random.rand() - 1\n",
    "    ya = 2*np.random.rand() - 1\n",
    "    xb = 2*np.random.rand() - 1\n",
    "    yb = 2*np.random.rand() - 1\n",
    "    xa, xb = min(xa, xb), max(xa, xb)\n",
    "    a = (yb-ya)/(xb-xa)\n",
    "    ys = 2*(X[:,2] > ya + (X[:,1] - xa)*a)-1\n",
    "    return X, ys\n",
    "\n",
    "class LRB_Classifier:\n",
    "    def __init__(self):\n",
    "        pass\n",
    "    \n",
    "    def fit(self, X, ys):\n",
    "        X_dagger = np.dot(np.linalg.pinv(np.dot(X.T, X)), X.T)\n",
    "        self.w = np.dot(X_dagger,ys)\n",
    "    # Lấy dấu của mảng dự đoán np.dot(X,self.w)\n",
    "    def prediction(self, X):\n",
    "        return np.sign(np.dot(X,self.w))"
   ]
  },
  {
   "cell_type": "code",
   "execution_count": 8,
   "metadata": {},
   "outputs": [
    {
     "name": "stdout",
     "output_type": "stream",
     "text": [
      "The average of Ein =  0.039810000000000005\n"
     ]
    }
   ],
   "source": [
    "E_ins = []\n",
    "\n",
    "for i in range(1000):\n",
    "    # Tạo dữ liệu và true target function\n",
    "    X, ys = generate_Separable_Data(100)\n",
    "\n",
    "    # Tạo bộ phân lớp dựa trên hồi quy tuyến tính bình phương nhỏ nhất\n",
    "    ls_classifier = LRB_Classifier()\n",
    "    ls_classifier.fit(X, ys)\n",
    "\n",
    "    # Tìm Error_in_sample\n",
    "    y_predict = ls_classifier.prediction(X)\n",
    "    E_in = np.mean(ys != y_predict)\n",
    "    E_ins.append(E_in)\n",
    "    \n",
    "print(\"The average of Ein = \", np.mean(E_ins))"
   ]
  },
  {
   "cell_type": "markdown",
   "metadata": {
    "deletable": false,
    "nbgrader": {
     "cell_type": "markdown",
     "checksum": "0b484b8390bec96142e8a1213ee8cd2c",
     "grade": true,
     "grade_id": "c5",
     "locked": false,
     "points": 1,
     "schema_version": 3,
     "solution": true,
     "task": false
    }
   },
   "source": [
    "Ta thấy, giá trị trung bình của E_in xung quanh 0.04, vậy đáp án gần nhất là [c] 0.01"
   ]
  },
  {
   "cell_type": "markdown",
   "metadata": {},
   "source": [
    "## Câu 6 (1 điểm)"
   ]
  },
  {
   "cell_type": "code",
   "execution_count": 9,
   "metadata": {},
   "outputs": [
    {
     "name": "stdout",
     "output_type": "stream",
     "text": [
      "The average of Ein =  0.04947777777777777\n"
     ]
    }
   ],
   "source": [
    "E_outs = []\n",
    "\n",
    "for i in range(1000):\n",
    "    #Tạo dữ liệu và true target function\n",
    "    X, y = generate_Separable_Data(1000) #1000 fresh points\n",
    "    Xs, ys = X[0:100,:], y[0:100] #Xs,ys (s = sample)\n",
    "    Xr, yr = X[100:,:], y[100:] #Xr,yr (r = remaining)\n",
    "\n",
    "    #Tạo bộ phân lớp dựa trên hồi quy tuyến tính bình phương nhỏ nhất\n",
    "    ls_classifier = LRB_Classifier()\n",
    "    ls_classifier.fit(Xs, ys)\n",
    "\n",
    "    # Tìm Error_in_sample\n",
    "    y_predict = ls_classifier.prediction(Xr)\n",
    "    E_out = np.mean(yr != y_predict )\n",
    "    #Cập nhật Eouts\n",
    "    E_outs.append(E_out)\n",
    "    \n",
    "print(\"The average of Ein = \", np.mean(E_outs))"
   ]
  },
  {
   "cell_type": "markdown",
   "metadata": {
    "deletable": false,
    "nbgrader": {
     "cell_type": "markdown",
     "checksum": "26f542221236fb24d0ddbee584eed7d0",
     "grade": true,
     "grade_id": "c6",
     "locked": false,
     "points": 1,
     "schema_version": 3,
     "solution": true,
     "task": false
    }
   },
   "source": [
    "Ta thấy, giá trị trung bình của E_in xung quanh 0.04 ~ 0.05, vậy đáp án gần nhất là [c] 0.01"
   ]
  },
  {
   "cell_type": "markdown",
   "metadata": {},
   "source": [
    "## Câu 7 (1 điểm)"
   ]
  },
  {
   "cell_type": "code",
   "execution_count": 10,
   "metadata": {},
   "outputs": [
    {
     "name": "stdout",
     "output_type": "stream",
     "text": [
      "The average number of interations in over 1000 runs that PLA takes to converge =  4.141\n"
     ]
    }
   ],
   "source": [
    "class PB_Classifier:\n",
    "    def __init__(self):\n",
    "        self.w = np.zeros((X.shape[1],1))\n",
    "    \n",
    "    def fit(self, X, y, init_w = None):\n",
    "        self.w = np.zeros((X.shape[1],1))\n",
    "        if not init_w is None:\n",
    "            self.w = init_w\n",
    "        \n",
    "        self.n_iterations = 0\n",
    "        while True:\n",
    "            y_predict = self.prediction(X)\n",
    "            mis = np.nonzero(y != y_predict)[0]\n",
    "            if len(mis) == 0:\n",
    "                return\n",
    "            # choose a point randomly from the set of misclassified(mis) points at each iteration\n",
    "            i = np.random.choice(mis) \n",
    "            self.w = self.w + y[i]*X[i,:]\n",
    "            self.n_iterations += 1\n",
    "            if self.n_iterations > 1000:\n",
    "                print(\"PLA is impossible!\")\n",
    "                return\n",
    "            \n",
    "    def prediction(self, X):\n",
    "        return np.sign(np.dot(X,self.w))\n",
    "    \n",
    "iters = []\n",
    "for i in range(1000):\n",
    "    #Tạo dữ liệu và true target function\n",
    "    X, y = generate_Separable_Data(10)\n",
    "\n",
    "    #Tạo bộ phân lớp dựa trên hồi quy tuyến tính bình phương nhỏ nhất\n",
    "    ls_classifier = LRB_Classifier()\n",
    "    ls_classifier.fit(X, y)\n",
    "    \n",
    "    #Tạo bộ phân lớp PLA\n",
    "    pla = PB_Classifier()\n",
    "    pla.fit(X, y, init_w = ls_classifier.w)\n",
    "    iters.append(pla.n_iterations)\n",
    "    \n",
    "print(\"The average number of interations in over 1000 runs that PLA takes to converge = \", np.mean(iters))"
   ]
  },
  {
   "cell_type": "markdown",
   "metadata": {
    "deletable": false,
    "nbgrader": {
     "cell_type": "markdown",
     "checksum": "322a244b0fae3a20ec568a5099aaaec1",
     "grade": true,
     "grade_id": "c7",
     "locked": false,
     "points": 1,
     "schema_version": 3,
     "solution": true,
     "task": false
    }
   },
   "source": [
    "Ta thấy, giá trị trung bình các iterations trong 1000 lần chạy nằm ở mức gần bằng 3 ~ 5. Vì vậy đáp án gần nhất là [a] 1"
   ]
  },
  {
   "cell_type": "markdown",
   "metadata": {},
   "source": [
    "## Câu 8 (1 điểm)"
   ]
  },
  {
   "cell_type": "code",
   "execution_count": 11,
   "metadata": {},
   "outputs": [],
   "source": [
    "def f(x):\n",
    "    return np.sign(x[:,1]**2 + x[:,2]**2 - 0.6)\n",
    "\n",
    "def generate_Dataset(N):\n",
    "    X = np.random.uniform(-1, 1, (N,3))\n",
    "    X[:,0] = 1.0\n",
    "    y = f(X)\n",
    "    \n",
    "    # Chọn ngẫu nhiên 10% các giá trị output đúng của y\n",
    "    y_output_ten_percents = np.random.choice(np.arange(0,N),N//10)\n",
    "    y[y_output_ten_percents] *= -1 #Đổi dấu y\n",
    "    \n",
    "    return X, y"
   ]
  },
  {
   "cell_type": "code",
   "execution_count": 12,
   "metadata": {},
   "outputs": [
    {
     "name": "stdout",
     "output_type": "stream",
     "text": [
      "The sample error E_in = :  0.43831\n"
     ]
    }
   ],
   "source": [
    "E_ins = []\n",
    "for i in range(1000):\n",
    "    X, y = generate_Dataset(100)\n",
    "    lsr = LRB_Classifier()\n",
    "    lsr.fit(X, y)\n",
    "    y_predict = lsr.prediction(X)\n",
    "    E_ins.append(np.mean(y != y_predict))\n",
    "    \n",
    "print(\"The sample error E_in = : \", np.mean(E_ins))"
   ]
  },
  {
   "cell_type": "markdown",
   "metadata": {
    "deletable": false,
    "nbgrader": {
     "cell_type": "markdown",
     "checksum": "d81773f072cd15e4a27b6cd240a5d990",
     "grade": true,
     "grade_id": "c8",
     "locked": false,
     "points": 1,
     "schema_version": 3,
     "solution": true,
     "task": false
    }
   },
   "source": [
    "Ta thấy, tỉ lệ lỗi gần bằng 0.5, vậy chọn đáp án [d] 0.5"
   ]
  },
  {
   "cell_type": "markdown",
   "metadata": {},
   "source": [
    "## Câu 9 (1 điểm)"
   ]
  },
  {
   "cell_type": "code",
   "execution_count": 13,
   "metadata": {},
   "outputs": [
    {
     "name": "stdout",
     "output_type": "stream",
     "text": [
      "[-0.98712139  0.04115769  0.00916052  0.04996928  1.57844384  1.60217457]\n"
     ]
    }
   ],
   "source": [
    "def to_Z(X):\n",
    "    Z = np.zeros((X.shape[0], 6))\n",
    "    Z[:,0] = 1.0\n",
    "    Z[:,1] = X[:,1]\n",
    "    Z[:,2] = X[:,2]\n",
    "    Z[:,3] = X[:,1]*X[:,2]\n",
    "    Z[:,4] = X[:,1]**2\n",
    "    Z[:,5] = X[:,2]**2\n",
    "    return Z\n",
    "\n",
    "X, ys = generate_Dataset(1000)\n",
    "Z = to_Z(X)\n",
    "lsr = LRB_Classifier()\n",
    "lsr.fit(Z, ys)\n",
    "w_tilde = lsr.w\n",
    "print(w_tilde)"
   ]
  },
  {
   "cell_type": "markdown",
   "metadata": {
    "deletable": false,
    "nbgrader": {
     "cell_type": "markdown",
     "checksum": "e814a2db0b8a53e4fddfee4bcbf405fc",
     "grade": true,
     "grade_id": "c9",
     "locked": false,
     "points": 1,
     "schema_version": 3,
     "solution": true,
     "task": false
    }
   },
   "source": [
    "Ta thấy các giá trị gần bằng -1, 0.05, 0.08, 0.13, 1.5, 1.5. Vậy ta chọn đáp án [a] g(x1, x2) = sign(−1 − 0.05x1 + 0.08x2 + 0.13x1x2 + 1.5x1*x1 + 1.5x2*x2"
   ]
  },
  {
   "cell_type": "markdown",
   "metadata": {},
   "source": [
    "## Câu 10 (1 điểm)"
   ]
  },
  {
   "cell_type": "code",
   "execution_count": 14,
   "metadata": {},
   "outputs": [
    {
     "name": "stdout",
     "output_type": "stream",
     "text": [
      "The sample error E_out = = : 0.122166\n"
     ]
    }
   ],
   "source": [
    "E_outs = []\n",
    "\n",
    "for i in range(1000):\n",
    "    Xs, ys = generate_Dataset(2000)\n",
    "\n",
    "    X_train, y_train = Xs[:1000,:], ys[0:1000]\n",
    "    X_test, y_test = Xs[1000:,:], ys[1000:]\n",
    "\n",
    "    Z_train = to_Z(X_train)\n",
    "    Z_test = to_Z(X_test)\n",
    "\n",
    "    lsr = LRB_Classifier()\n",
    "    lsr.fit(Z_train, y_train)\n",
    "\n",
    "    y_predict = lsr.prediction(Z_test)\n",
    "    E_out = np.mean(y_test != y_predict)\n",
    "    E_outs.append(E_out)\n",
    "    \n",
    "print(\"The sample error E_out = = :\", np.mean(E_outs))"
   ]
  },
  {
   "cell_type": "markdown",
   "metadata": {
    "deletable": false,
    "nbgrader": {
     "cell_type": "markdown",
     "checksum": "41cbf5c6d2b94eeae0a712be2181fef6",
     "grade": true,
     "grade_id": "c10",
     "locked": false,
     "points": 1,
     "schema_version": 3,
     "solution": true,
     "task": false
    }
   },
   "source": [
    "Tỉ lệ lỗi E_out gần bằng 0.12. Vậy, ta chọn đáp án gần nhất là [b] 0.1"
   ]
  }
 ],
 "metadata": {
  "kernelspec": {
   "display_name": "Python 3",
   "language": "python",
   "name": "python3"
  },
  "language_info": {
   "codemirror_mode": {
    "name": "ipython",
    "version": 3
   },
   "file_extension": ".py",
   "mimetype": "text/x-python",
   "name": "python",
   "nbconvert_exporter": "python",
   "pygments_lexer": "ipython3",
   "version": "3.7.6"
  },
  "toc": {
   "base_numbering": 1,
   "nav_menu": {},
   "number_sections": true,
   "sideBar": true,
   "skip_h1_title": false,
   "title_cell": "Table of Contents",
   "title_sidebar": "Contents",
   "toc_cell": false,
   "toc_position": {},
   "toc_section_display": true,
   "toc_window_display": false
  },
  "varInspector": {
   "cols": {
    "lenName": 16,
    "lenType": 16,
    "lenVar": 40
   },
   "kernels_config": {
    "python": {
     "delete_cmd_postfix": "",
     "delete_cmd_prefix": "del ",
     "library": "var_list.py",
     "varRefreshCmd": "print(var_dic_list())"
    },
    "r": {
     "delete_cmd_postfix": ") ",
     "delete_cmd_prefix": "rm(",
     "library": "var_list.r",
     "varRefreshCmd": "cat(var_dic_list()) "
    }
   },
   "types_to_exclude": [
    "module",
    "function",
    "builtin_function_or_method",
    "instance",
    "_Feature"
   ],
   "window_display": false
  }
 },
 "nbformat": 4,
 "nbformat_minor": 4
}
