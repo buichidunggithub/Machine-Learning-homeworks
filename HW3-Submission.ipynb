{
 "cells": [
  {
   "cell_type": "markdown",
   "metadata": {},
   "source": [
    "# Bài tập 3\n",
    "\n",
    "Bùi Chí Dũng - 1712364"
   ]
  },
  {
   "cell_type": "markdown",
   "metadata": {},
   "source": [
    "CODE CHO CÂU 1, 2 VÀ 3"
   ]
  },
  {
   "cell_type": "code",
   "execution_count": 2,
   "metadata": {},
   "outputs": [
    {
     "name": "stdout",
     "output_type": "stream",
     "text": [
      "Câu 1:  839.9410155759853\n",
      "Câu 2:  1300.4580341747942\n",
      "Câu 3:  1760.9750527736032\n"
     ]
    }
   ],
   "source": [
    "import numpy as np\n",
    "def compute(eps, M, p):\n",
    "    return -np.log(p/(2*M)) / (2*eps**2)\n",
    "print(\"Câu 1: \", compute(0.05, 1, 0.03))\n",
    "print(\"Câu 2: \", compute(0.05, 10, 0.03))\n",
    "print(\"Câu 3: \", compute(0.05, 100, 0.03))"
   ]
  },
  {
   "cell_type": "markdown",
   "metadata": {},
   "source": [
    "## Câu 1 (1 điểm)"
   ]
  },
  {
   "cell_type": "markdown",
   "metadata": {
    "deletable": false,
    "nbgrader": {
     "cell_type": "markdown",
     "checksum": "2e83d862b3c5fd4fb57d72c50e8115f8",
     "grade": true,
     "grade_id": "c1",
     "locked": false,
     "points": 1,
     "schema_version": 3,
     "solution": true,
     "task": false
    }
   },
   "source": [
    "Chọn [b] 1000 vì kết quả N ~= 839"
   ]
  },
  {
   "cell_type": "markdown",
   "metadata": {},
   "source": [
    "## Câu 2 (1 điểm)"
   ]
  },
  {
   "cell_type": "markdown",
   "metadata": {
    "deletable": false,
    "nbgrader": {
     "cell_type": "markdown",
     "checksum": "47d4e2bb3e4812ef7b37e032a898cfec",
     "grade": true,
     "grade_id": "c2",
     "locked": false,
     "points": 1,
     "schema_version": 3,
     "solution": true,
     "task": false
    }
   },
   "source": [
    "Chọn [c] 1500 vì kết quả N ~= 1300"
   ]
  },
  {
   "cell_type": "markdown",
   "metadata": {},
   "source": [
    "## Câu 3 (1 điểm)"
   ]
  },
  {
   "cell_type": "markdown",
   "metadata": {
    "deletable": false,
    "nbgrader": {
     "cell_type": "markdown",
     "checksum": "0997a909d9ab1f250c2bfd0645fee970",
     "grade": true,
     "grade_id": "c3",
     "locked": false,
     "points": 1,
     "schema_version": 3,
     "solution": true,
     "task": false
    }
   },
   "source": [
    "Chọn [d] 1760 vì kết quả N ~= 2000"
   ]
  },
  {
   "cell_type": "markdown",
   "metadata": {},
   "source": [
    "## Câu 4 (1 điểm)"
   ]
  },
  {
   "cell_type": "markdown",
   "metadata": {
    "deletable": false,
    "nbgrader": {
     "cell_type": "markdown",
     "checksum": "efabab5c4035a6864ac8cb3e0061c6f0",
     "grade": true,
     "grade_id": "c4",
     "locked": false,
     "points": 1,
     "schema_version": 3,
     "solution": true,
     "task": false
    }
   },
   "source": [
    "Ở không gian ba chiều, sẽ có 3 điểm tạo thành một hình tam giác, và 2 điểm tạo thành đường thẳng đi qua tam giác đó. Vì vậy, sẽ có 5 break points là tối thiểu. Chọn [b] 5"
   ]
  },
  {
   "cell_type": "markdown",
   "metadata": {},
   "source": [
    "## Câu 5 (1 điểm)"
   ]
  },
  {
   "cell_type": "markdown",
   "metadata": {},
   "source": [
    "i) Hợp lý\n",
    "ii) Hợp lý\n",
    "iii) Giới hạn của tổng này phải cố định, không phụ thuộc vào N\n",
    "iv) growth function phải là 2^n, chứ không phải 2^n/2\n",
    "v) Hợp lý"
   ]
  },
  {
   "cell_type": "markdown",
   "metadata": {
    "deletable": false,
    "nbgrader": {
     "cell_type": "markdown",
     "checksum": "0b484b8390bec96142e8a1213ee8cd2c",
     "grade": true,
     "grade_id": "c5",
     "locked": false,
     "points": 1,
     "schema_version": 3,
     "solution": true,
     "task": false
    }
   },
   "source": [
    "Các hàm tăng trưởng phải là đa thức với N, với giá trị bé hơn hoặc bằng k, hoặc 2^n. Vậy chọn [b] i, ii, v là những công thức phù hợp với growth function."
   ]
  },
  {
   "cell_type": "markdown",
   "metadata": {},
   "source": [
    "## Câu 6 (1 điểm)"
   ]
  },
  {
   "cell_type": "markdown",
   "metadata": {
    "deletable": false,
    "nbgrader": {
     "cell_type": "markdown",
     "checksum": "26f542221236fb24d0ddbee584eed7d0",
     "grade": true,
     "grade_id": "c6",
     "locked": false,
     "points": 1,
     "schema_version": 3,
     "solution": true,
     "task": false
    }
   },
   "source": [
    "Ví dụ cho tập [1 -1 1 -1 1], không thể biểu diễn với 2 vùng, mà cần ít nhất 3 vùng. Vậy tối thiểu có 5 break points. Chọn [c] 5"
   ]
  },
  {
   "cell_type": "markdown",
   "metadata": {},
   "source": [
    "## Câu 7 (1 điểm)"
   ]
  },
  {
   "cell_type": "markdown",
   "metadata": {
    "deletable": false,
    "nbgrader": {
     "cell_type": "markdown",
     "checksum": "322a244b0fae3a20ec568a5099aaaec1",
     "grade": true,
     "grade_id": "c7",
     "locked": false,
     "points": 1,
     "schema_version": 3,
     "solution": true,
     "task": false
    }
   },
   "source": [
    "Số cách chọn 2 non-overlapping intervals + Số cách chọn 1 interval + Số cách chọn không có gì được chọn\n",
    "= (N+1 4) + (N+1 2) + 1\n",
    "Chọn [c]\n"
   ]
  },
  {
   "cell_type": "markdown",
   "metadata": {},
   "source": [
    "## Câu 8 (1 điểm)"
   ]
  },
  {
   "cell_type": "markdown",
   "metadata": {
    "deletable": false,
    "nbgrader": {
     "cell_type": "markdown",
     "checksum": "d81773f072cd15e4a27b6cd240a5d990",
     "grade": true,
     "grade_id": "c8",
     "locked": false,
     "points": 1,
     "schema_version": 3,
     "solution": true,
     "task": false
    }
   },
   "source": [
    "Tương tự câu 6, nếu có 9 points thì không thể biễu diễn với 4 vùng (intervals) mà cần ít nhất 5 vùng, vậy ta nhận ra quy luật nếu có m vùng, thì có 2m+1 break points. Chọn [d] 2M + 1"
   ]
  },
  {
   "cell_type": "markdown",
   "metadata": {},
   "source": [
    "## Câu 9 (1 điểm)"
   ]
  },
  {
   "cell_type": "markdown",
   "metadata": {
    "deletable": false,
    "nbgrader": {
     "cell_type": "markdown",
     "checksum": "e814a2db0b8a53e4fddfee4bcbf405fc",
     "grade": true,
     "grade_id": "c9",
     "locked": false,
     "points": 1,
     "schema_version": 3,
     "solution": true,
     "task": false
    }
   },
   "source": [
    "Sắp xếp các điểm nằm trên đường tròn, với N = 7, ta có thể chọn bất kì tổ hợp điểm nào, nhưng với N = 9, là không thể trong khi có 4 vùng trên vòng tròn theo hình zigzag, nhưng một tam giác chỉ có thể chụp được 3 vùng. Vậy số điểm lớn nhất [d] 7 , hay N = 7 bị phá vỡ bởi H."
   ]
  },
  {
   "cell_type": "markdown",
   "metadata": {},
   "source": [
    "## Câu 10 (1 điểm)"
   ]
  },
  {
   "cell_type": "markdown",
   "metadata": {
    "deletable": false,
    "nbgrader": {
     "cell_type": "markdown",
     "checksum": "41cbf5c6d2b94eeae0a712be2181fef6",
     "grade": true,
     "grade_id": "c10",
     "locked": false,
     "points": 1,
     "schema_version": 3,
     "solution": true,
     "task": false
    }
   },
   "source": [
    "Sắp xếp các điểm ở trên cùng một dòng, chọn một vùng là vòng tròn đồng tâm + trường hợp không có gì được chọn. Ta được [b] (N+1 2) + 1"
   ]
  }
 ],
 "metadata": {
  "kernelspec": {
   "display_name": "Python 3",
   "language": "python",
   "name": "python3"
  },
  "language_info": {
   "codemirror_mode": {
    "name": "ipython",
    "version": 3
   },
   "file_extension": ".py",
   "mimetype": "text/x-python",
   "name": "python",
   "nbconvert_exporter": "python",
   "pygments_lexer": "ipython3",
   "version": "3.7.6"
  },
  "toc": {
   "base_numbering": 1,
   "nav_menu": {},
   "number_sections": true,
   "sideBar": true,
   "skip_h1_title": false,
   "title_cell": "Table of Contents",
   "title_sidebar": "Contents",
   "toc_cell": false,
   "toc_position": {},
   "toc_section_display": true,
   "toc_window_display": false
  },
  "varInspector": {
   "cols": {
    "lenName": 16,
    "lenType": 16,
    "lenVar": 40
   },
   "kernels_config": {
    "python": {
     "delete_cmd_postfix": "",
     "delete_cmd_prefix": "del ",
     "library": "var_list.py",
     "varRefreshCmd": "print(var_dic_list())"
    },
    "r": {
     "delete_cmd_postfix": ") ",
     "delete_cmd_prefix": "rm(",
     "library": "var_list.r",
     "varRefreshCmd": "cat(var_dic_list()) "
    }
   },
   "types_to_exclude": [
    "module",
    "function",
    "builtin_function_or_method",
    "instance",
    "_Feature"
   ],
   "window_display": false
  }
 },
 "nbformat": 4,
 "nbformat_minor": 4
}
