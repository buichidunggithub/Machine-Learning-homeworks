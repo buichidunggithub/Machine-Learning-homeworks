{
 "cells": [
  {
   "cell_type": "markdown",
   "metadata": {},
   "source": [
    "# Bài tập 5\n",
    "\n",
    "Bùi Chí Dũng - 1712364"
   ]
  },
  {
   "cell_type": "markdown",
   "metadata": {},
   "source": [
    "## Câu 1 (1 điểm)"
   ]
  },
  {
   "cell_type": "markdown",
   "metadata": {
    "deletable": false,
    "nbgrader": {
     "cell_type": "markdown",
     "checksum": "2e83d862b3c5fd4fb57d72c50e8115f8",
     "grade": true,
     "grade_id": "c1",
     "locked": false,
     "points": 1,
     "schema_version": 3,
     "solution": true,
     "task": false
    }
   },
   "source": [
    "Giải bất phương trình ta sẽ nhận được giá trị N >= 45 để expected E_in >= 0.08. Vì vậy, theo đáp án, ít nhất N phải đạt 100. Chọn [c] 100, nếu N = 25 thì không thể đạt E_in ~0.08 được."
   ]
  },
  {
   "cell_type": "markdown",
   "metadata": {},
   "source": [
    "## Câu 2 (1 điểm)"
   ]
  },
  {
   "cell_type": "markdown",
   "metadata": {
    "deletable": false,
    "nbgrader": {
     "cell_type": "markdown",
     "checksum": "47d4e2bb3e4812ef7b37e032a898cfec",
     "grade": true,
     "grade_id": "c2",
     "locked": false,
     "points": 1,
     "schema_version": 3,
     "solution": true,
     "task": false
    }
   },
   "source": [
    "Ta có: $\\tilde{w}_0 + \\tilde{w}_1 x_1^2 + \\tilde{w}_2 x_2^2 = 0$\n",
    "- $x_1$ nhỏ -> dương, $x_1$ lớn -> âm\n",
    "- $x_2$ nhỏ -> âm dương âm, $x_2$ lớn -> dương\n",
    "Vì y = x và y = -x là các đường liên tục, nên $\\tilde w_1 = - \\tilde w_2$\n",
    ".Mặt khác, ban đầu là dương nên ta biết $\\tilde w_1$ dương, và $x_1$ lớn thì âm nên $\\tilde w_1$ âm.\n",
    "Vì vậy mà $ \\tilde w_1$ < 0, $ \\tilde w_2$ > 0. Chọn [e] $\\tilde{w}_1 < 0 ,  \\tilde{w}_2 > 0$\n"
   ]
  },
  {
   "cell_type": "markdown",
   "metadata": {},
   "source": [
    "## Câu 3 (1 điểm)"
   ]
  },
  {
   "cell_type": "markdown",
   "metadata": {
    "deletable": false,
    "nbgrader": {
     "cell_type": "markdown",
     "checksum": "0997a909d9ab1f250c2bfd0645fee970",
     "grade": true,
     "grade_id": "c3",
     "locked": false,
     "points": 1,
     "schema_version": 3,
     "solution": true,
     "task": false
    }
   },
   "source": [
    "Cho $\\Phi_4$ (15 outputs) với 2 inputs ($\\mathbf x \\in \\mathbb R^2 $)\n",
    "Ta có: \n",
    "$d_{VC} = d + 1 = 3$ (2D perceptron). \n",
    "Mặt khác, $d_{VC} = \\tilde d + 1$, trong đó $\\tilde d + 1 = 15$ (số lượng outputs của $\\Phi$).\n",
    "Chọn [c] 15\n",
    "\n"
   ]
  },
  {
   "cell_type": "markdown",
   "metadata": {},
   "source": [
    "## Câu 4 (1 điểm)"
   ]
  },
  {
   "cell_type": "markdown",
   "metadata": {
    "deletable": false,
    "nbgrader": {
     "cell_type": "markdown",
     "checksum": "efabab5c4035a6864ac8cb3e0061c6f0",
     "grade": true,
     "grade_id": "c4",
     "locked": false,
     "points": 1,
     "schema_version": 3,
     "solution": true,
     "task": false
    }
   },
   "source": [
    "Đạo hàm đa thức E(u,v) theo biến u ta được kết quả là [e] $2(e^v + 2ve^{-u})(ue^v - 2ve^{-u})$"
   ]
  },
  {
   "cell_type": "code",
   "execution_count": 1,
   "metadata": {},
   "outputs": [
    {
     "name": "stdout",
     "output_type": "stream",
     "text": [
      "Iterations: 10\n",
      "Final u,v: [0.04473629 0.02395871]\n"
     ]
    }
   ],
   "source": [
    "import numpy as np\n",
    "\n",
    "def E(x):\n",
    "    u = x[0]\n",
    "    v = x[1]\n",
    "    return (u*np.exp(v) - 2*v*np.exp(-u))**2\n",
    "\n",
    "def grad_E(x):\n",
    "    u = x[0]\n",
    "    v = x[1]\n",
    "    return np.array([2*(u*np.exp(v) - 2*v*np.exp(-u))*(np.exp(v) + 2*v*np.exp(-u)),\n",
    "                     2*(u*np.exp(v) - 2*v*np.exp(-u))*(u*np.exp(v) - 2*np.exp(-u))])\n",
    "\n",
    "def gradient_descent(E, grad_E, x0, tol=1e-14, eta=0.1):\n",
    "    x = x0.copy()\n",
    "    iters = 0\n",
    "    err = E(x)\n",
    "    us = [x[0]]\n",
    "    vs = [x[1]]\n",
    "    while err > tol:\n",
    "        grad = grad_E(x)\n",
    "        x = x - eta*grad\n",
    "        us.append(x[0])\n",
    "        vs.append(x[1])\n",
    "        err = E(x)\n",
    "        iters += 1\n",
    "        if iters > 100:\n",
    "            print(\"Không hội tụ\")\n",
    "            return\n",
    "    return (x, err, iters, us, vs)\n",
    "x0 = np.array([1, 1])\n",
    "final_uv, err, iters, us, vs = gradient_descent(E, grad_E, x0)\n",
    "print(\"Iterations:\", iters)\n",
    "print(\"Final u,v:\", final_uv)"
   ]
  },
  {
   "cell_type": "markdown",
   "metadata": {},
   "source": [
    "## Câu 5 (1 điểm)"
   ]
  },
  {
   "cell_type": "markdown",
   "metadata": {
    "deletable": false,
    "nbgrader": {
     "cell_type": "markdown",
     "checksum": "0b484b8390bec96142e8a1213ee8cd2c",
     "grade": true,
     "grade_id": "c5",
     "locked": false,
     "points": 1,
     "schema_version": 3,
     "solution": true,
     "task": false
    }
   },
   "source": [
    "Từ kết quả trên ta chọn được câu [d] 10 interations."
   ]
  },
  {
   "cell_type": "markdown",
   "metadata": {},
   "source": [
    "## Câu 6 (1 điểm)"
   ]
  },
  {
   "cell_type": "markdown",
   "metadata": {
    "deletable": false,
    "nbgrader": {
     "cell_type": "markdown",
     "checksum": "26f542221236fb24d0ddbee584eed7d0",
     "grade": true,
     "grade_id": "c6",
     "locked": false,
     "points": 1,
     "schema_version": 3,
     "solution": true,
     "task": false
    }
   },
   "source": [
    "Từ kết quả trên ta chọn được câu [e] (0.045, 0.024)"
   ]
  },
  {
   "cell_type": "markdown",
   "metadata": {},
   "source": [
    "## Câu 7 (1 điểm)"
   ]
  },
  {
   "cell_type": "code",
   "execution_count": 2,
   "metadata": {},
   "outputs": [
    {
     "name": "stdout",
     "output_type": "stream",
     "text": [
      "Final coordinate: 6.29707589930517 -2.852306954077811\n",
      "Final error: 0.13981379199615315\n",
      "Iterations: 15\n"
     ]
    }
   ],
   "source": [
    "import numpy as np\n",
    "\n",
    "def E(u, v):\n",
    "    return (u*np.exp(v) - 2*v*np.exp(-u))**2\n",
    "\n",
    "def dE_u(u, v):\n",
    "    return 2*(u*np.exp(v) - 2*v*np.exp(-u))*(np.exp(v) + 2*v*np.exp(-u))\n",
    "\n",
    "def dE_v(u, v):\n",
    "    return 2*(u*np.exp(v) - 2*v*np.exp(-u))*(u*np.exp(v) - 2*np.exp(-u))\n",
    "def coordinate_descent(E, dE_u, dE_v, u0, v0, tol =1e-14, eta = 0.1):\n",
    "    u, v = u0, v0\n",
    "    us = [u]\n",
    "    uv = [v]\n",
    "    for it in range(15):\n",
    "        u = u - eta*dE_u(u,v)\n",
    "        us.append(u)\n",
    "        vs.append(v)\n",
    "        v = v - eta*dE_v(u,v)\n",
    "        us.append(u)\n",
    "        vs.append(v)\n",
    "    return u, v, E(u, v), 15, us, vs\n",
    "final_u, final_v, err, iters, us, vs = coordinate_descent(E, dE_u, dE_v, 1.0, 1.0)\n",
    "print(\"Final coordinate:\", final_u, final_v)\n",
    "print(\"Final error:\", err)\n",
    "print(\"Iterations:\", iters)"
   ]
  },
  {
   "cell_type": "markdown",
   "metadata": {
    "deletable": false,
    "nbgrader": {
     "cell_type": "markdown",
     "checksum": "322a244b0fae3a20ec568a5099aaaec1",
     "grade": true,
     "grade_id": "c7",
     "locked": false,
     "points": 1,
     "schema_version": 3,
     "solution": true,
     "task": false
    }
   },
   "source": [
    "Theo kết quả trên thì the Error E(u,v) gần bằng 0.14 ~ 0.1. Vậy chọn [a] $10^{-1}$"
   ]
  },
  {
   "cell_type": "markdown",
   "metadata": {},
   "source": [
    "## Câu 8 (1 điểm)"
   ]
  },
  {
   "cell_type": "markdown",
   "metadata": {
    "deletable": false,
    "nbgrader": {
     "cell_type": "markdown",
     "checksum": "d81773f072cd15e4a27b6cd240a5d990",
     "grade": true,
     "grade_id": "c8",
     "locked": false,
     "points": 1,
     "schema_version": 3,
     "solution": true,
     "task": false
    }
   },
   "source": [
    "Dự đoán giá trị sẽ thay đổi xung quanh 0.1, nên em chọn [d] 0.100"
   ]
  },
  {
   "cell_type": "markdown",
   "metadata": {},
   "source": [
    "## Câu 9 (1 điểm)"
   ]
  },
  {
   "cell_type": "markdown",
   "metadata": {
    "deletable": false,
    "nbgrader": {
     "cell_type": "markdown",
     "checksum": "e814a2db0b8a53e4fddfee4bcbf405fc",
     "grade": true,
     "grade_id": "c9",
     "locked": false,
     "points": 1,
     "schema_version": 3,
     "solution": true,
     "task": false
    }
   },
   "source": [
    "Dự đoán kết quả thay đổi xung quanh giá trị 350, nên em chọn [a] 350"
   ]
  },
  {
   "cell_type": "markdown",
   "metadata": {},
   "source": [
    "## Câu 10 (1 điểm)"
   ]
  },
  {
   "cell_type": "markdown",
   "metadata": {},
   "source": [
    "Theo PLA ta có vòng lặp để cập nhật như sau:\n",
    "$w = w + y_nx_n$ đối với những điểm được phân loại sai ($y_n \\neq w^T x_n$) và w không đổi với những điểm phân loại đúng.\n",
    "Đối với SGD ta có vòng lặp cập nhật sau:\n",
    "$w = w - \\alpha \\nabla e_n(w) $, đặt $\\alpha = 1$. Chọn $e_n$ để $\\nabla e_n \\approx - y_n x_n $ cho những điểm được phân loại sai và $\\nabla e_n \\approx 0 $ đối với những điểm phân loại đúng.\n",
    "\n"
   ]
  },
  {
   "cell_type": "markdown",
   "metadata": {},
   "source": [
    "- [a] Gradient:  $- y_n x_n e^{-y_n w^T x_n}$ . Với những điểm phân loại đúng ta được $-y_nx_n$ (n nhỏ), với những điểm phân loại sai ta được $-y_nx_n$ (với n lớn)\n",
    "\n",
    "- [b] Gradient: $-y_nx_n$. Sai vì kết quả vẫn là $-y_nx_n$ dù cho điểm được phân loại đúng hay sai\n",
    "\n",
    "- [c] Gradient:  $-2(y_n - w^T x_n)x_n$. Sai, vì sự khác nhau giữa $y_n$ và $w^T x_n$ \n",
    "\n",
    "- [d] Gradient: $$ \\frac{-y_n x_n}{1 + e^{y_n w^T x_n}} $$\n",
    "Với những điểm phân loại sai ta có: $-y_nx_n$ (n nhỏ)\n",
    "Với những điểm phân loại đúng ta có $-y_nx_n$\n",
    "\n",
    "- [e] Với những điểm phân loại đúng ta có gradient = 0, với những điểm phân loại sai ta có gradient = $-y_nx_n$. Kết quả này giống như thuật toán PLA. \n"
   ]
  },
  {
   "cell_type": "markdown",
   "metadata": {
    "deletable": false,
    "nbgrader": {
     "cell_type": "markdown",
     "checksum": "41cbf5c6d2b94eeae0a712be2181fef6",
     "grade": true,
     "grade_id": "c10",
     "locked": false,
     "points": 1,
     "schema_version": 3,
     "solution": true,
     "task": false
    }
   },
   "source": [
    "Vậy chọn [e] $e_n(w) = - min(0, y_nw^Tx_n)$"
   ]
  }
 ],
 "metadata": {
  "kernelspec": {
   "display_name": "Python 3",
   "language": "python",
   "name": "python3"
  },
  "language_info": {
   "codemirror_mode": {
    "name": "ipython",
    "version": 3
   },
   "file_extension": ".py",
   "mimetype": "text/x-python",
   "name": "python",
   "nbconvert_exporter": "python",
   "pygments_lexer": "ipython3",
   "version": "3.7.6"
  },
  "toc": {
   "base_numbering": 1,
   "nav_menu": {},
   "number_sections": true,
   "sideBar": true,
   "skip_h1_title": false,
   "title_cell": "Table of Contents",
   "title_sidebar": "Contents",
   "toc_cell": false,
   "toc_position": {},
   "toc_section_display": true,
   "toc_window_display": false
  },
  "varInspector": {
   "cols": {
    "lenName": 16,
    "lenType": 16,
    "lenVar": 40
   },
   "kernels_config": {
    "python": {
     "delete_cmd_postfix": "",
     "delete_cmd_prefix": "del ",
     "library": "var_list.py",
     "varRefreshCmd": "print(var_dic_list())"
    },
    "r": {
     "delete_cmd_postfix": ") ",
     "delete_cmd_prefix": "rm(",
     "library": "var_list.r",
     "varRefreshCmd": "cat(var_dic_list()) "
    }
   },
   "types_to_exclude": [
    "module",
    "function",
    "builtin_function_or_method",
    "instance",
    "_Feature"
   ],
   "window_display": false
  }
 },
 "nbformat": 4,
 "nbformat_minor": 4
}
