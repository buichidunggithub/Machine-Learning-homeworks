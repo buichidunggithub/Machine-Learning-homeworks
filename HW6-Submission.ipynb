{
 "cells": [
  {
   "cell_type": "markdown",
   "metadata": {},
   "source": [
    "# Bài tập 6\n",
    "\n",
    "Bùi Chí Dũng - 1712364"
   ]
  },
  {
   "cell_type": "markdown",
   "metadata": {},
   "source": [
    "## Câu 1 (1 điểm)"
   ]
  },
  {
   "cell_type": "markdown",
   "metadata": {
    "deletable": false,
    "nbgrader": {
     "cell_type": "markdown",
     "checksum": "2e83d862b3c5fd4fb57d72c50e8115f8",
     "grade": true,
     "grade_id": "c1",
     "locked": false,
     "points": 1,
     "schema_version": 3,
     "solution": true,
     "task": false
    }
   },
   "source": [
    "Nếu sử dụng tập hợp con H' của hypothesis H thì sẽ tăng bias, tức là tăng deterministic noise. Vì vậy em chọn [b] In general, deterministic noise will increase."
   ]
  },
  {
   "cell_type": "markdown",
   "metadata": {},
   "source": [
    "## Câu 2 (1 điểm)"
   ]
  },
  {
   "cell_type": "code",
   "execution_count": 1,
   "metadata": {},
   "outputs": [],
   "source": [
    "import numpy as np\n",
    "train_data = np.loadtxt(\"in.dta\")\n",
    "train_X, train_Y = train_data[:,:2], train_data[:,2]\n",
    "\n",
    "test_data = np.loadtxt(\"out.dta\")\n",
    "test_X, test_Y = test_data[:,:2], test_data[:,2]"
   ]
  },
  {
   "cell_type": "code",
   "execution_count": 2,
   "metadata": {},
   "outputs": [],
   "source": [
    "def phi(X):\n",
    "    Z = np.zeros((X.shape[0],  8))\n",
    "    Z[:,0] = 1\n",
    "    Z[:,1] = X[:,0]\n",
    "    Z[:,2] = X[:,1]\n",
    "    Z[:,3] = X[:,0]**2\n",
    "    Z[:,4] = X[:,1]**2\n",
    "    Z[:,5] = X[:,0] * X[:,1]\n",
    "    Z[:,6] = np.abs(X[:,0] - X[:,1])\n",
    "    Z[:,7] = np.abs(X[:,0] + X[:,1])\n",
    "    return Z\n",
    "\n",
    "# Transform the data\n",
    "train_Z = phi(train_X)\n",
    "\n",
    "# Fit the data\n",
    "Z = train_Z\n",
    "\n",
    "#w_reg(slide 11 - Regularization) với 𝜆 = 0\n",
    "w_t = np.linalg.solve(Z.T @ Z, Z.T @ train_Y)\n",
    "\n",
    "def predict(X):\n",
    "    Z = phi(X)\n",
    "    return np.sign(Z @ w_t)"
   ]
  },
  {
   "cell_type": "code",
   "execution_count": 3,
   "metadata": {},
   "outputs": [
    {
     "name": "stdout",
     "output_type": "stream",
     "text": [
      "E_in =  0.02857142857142857\n",
      "E_out =  0.084\n"
     ]
    }
   ],
   "source": [
    "#Compute E_in\n",
    "E_in = np.mean(predict(train_X) != train_Y)\n",
    "print(\"E_in = \", E_in)\n",
    "\n",
    "#Compute E_out\n",
    "E_out = np.mean(predict(test_X) != test_Y)\n",
    "print(\"E_out = \", E_out)"
   ]
  },
  {
   "cell_type": "markdown",
   "metadata": {
    "deletable": false,
    "nbgrader": {
     "cell_type": "markdown",
     "checksum": "47d4e2bb3e4812ef7b37e032a898cfec",
     "grade": true,
     "grade_id": "c2",
     "locked": false,
     "points": 1,
     "schema_version": 3,
     "solution": true,
     "task": false
    }
   },
   "source": [
    "Dựa vào kết quả trên, em chọn [a] 0.03, 0.08"
   ]
  },
  {
   "cell_type": "markdown",
   "metadata": {},
   "source": [
    "## Câu 3 (1 điểm)"
   ]
  },
  {
   "cell_type": "code",
   "execution_count": 4,
   "metadata": {},
   "outputs": [
    {
     "name": "stdout",
     "output_type": "stream",
     "text": [
      "E_in = 0.02857142857142857\n",
      "E_out = 0.08\n"
     ]
    }
   ],
   "source": [
    "k = -3\n",
    "# Data transf\n",
    "train_Z = phi(train_X)\n",
    "# Compute w\n",
    "Z = train_Z\n",
    "w_t = np.linalg.solve(Z.T @ Z + 10**k*np.identity(Z.shape[1]), Z.T @ train_Y)\n",
    "\n",
    "def predict(X):\n",
    "    Z = phi(X)\n",
    "    return np.sign(Z @ w_t)\n",
    "\n",
    "E_in = np.mean(predict(train_X) != train_Y)\n",
    "print(\"E_in =\", E_in)\n",
    "    \n",
    "E_out = np.mean(predict(test_X) != test_Y)\n",
    "print(\"E_out =\", E_out)"
   ]
  },
  {
   "cell_type": "markdown",
   "metadata": {
    "deletable": false,
    "nbgrader": {
     "cell_type": "markdown",
     "checksum": "0997a909d9ab1f250c2bfd0645fee970",
     "grade": true,
     "grade_id": "c3",
     "locked": false,
     "points": 1,
     "schema_version": 3,
     "solution": true,
     "task": false
    }
   },
   "source": [
    "Từ kết quả trên, ta thấy E_in không thay đổi so với ở câu 2, E_out có cải thiện hơn khi giảm từ 0.084 -> 0.08. Chọn [d] 0.03, 0.08"
   ]
  },
  {
   "cell_type": "markdown",
   "metadata": {},
   "source": [
    "## Câu 4 (1 điểm)"
   ]
  },
  {
   "cell_type": "code",
   "execution_count": 5,
   "metadata": {},
   "outputs": [
    {
     "name": "stdout",
     "output_type": "stream",
     "text": [
      "E_in = 0.37142857142857144\n",
      "E_out = 0.436\n"
     ]
    }
   ],
   "source": [
    "k = 3\n",
    "# Data transf\n",
    "train_Z = phi(train_X)\n",
    "# Compute w\n",
    "Z = train_Z\n",
    "w_t = np.linalg.solve(Z.T @ Z + 10**k*np.identity(Z.shape[1]), Z.T @ train_Y)\n",
    "\n",
    "def predict(X):\n",
    "    Z = phi(X)\n",
    "    return np.sign(Z @ w_t)\n",
    "E_in = np.mean(predict(train_X) != train_Y)\n",
    "print(\"E_in =\", E_in)\n",
    "    \n",
    "E_out = np.mean(predict(test_X) != test_Y)\n",
    "print(\"E_out =\", E_out)"
   ]
  },
  {
   "cell_type": "markdown",
   "metadata": {
    "deletable": false,
    "nbgrader": {
     "cell_type": "markdown",
     "checksum": "efabab5c4035a6864ac8cb3e0061c6f0",
     "grade": true,
     "grade_id": "c4",
     "locked": false,
     "points": 1,
     "schema_version": 3,
     "solution": true,
     "task": false
    }
   },
   "source": [
    "Với k = 3, ta thấy kết quả gần với câu [e] 0.4, 0.4"
   ]
  },
  {
   "cell_type": "markdown",
   "metadata": {},
   "source": [
    "## Câu 5 (1 điểm)"
   ]
  },
  {
   "cell_type": "code",
   "execution_count": 6,
   "metadata": {},
   "outputs": [
    {
     "name": "stdout",
     "output_type": "stream",
     "text": [
      "Với k = -2\n",
      "E_in = 0.02857142857142857\n",
      "E_out = 0.084\n",
      "Với k = -1\n",
      "E_in = 0.02857142857142857\n",
      "E_out = 0.056\n",
      "Với k = 0\n",
      "E_in = 0.0\n",
      "E_out = 0.092\n",
      "Với k = 1\n",
      "E_in = 0.05714285714285714\n",
      "E_out = 0.124\n"
     ]
    }
   ],
   "source": [
    "# Data transf\n",
    "train_Z = phi(train_X)\n",
    "\n",
    "for k in range(-2,2):\n",
    "    # Compute w\n",
    "    Z = train_Z\n",
    "    w_t = np.linalg.solve(Z.T @ Z + 10**k*np.identity(Z.shape[1]), Z.T @ train_Y)\n",
    "\n",
    "    def predict(X):\n",
    "        Z = phi(X)\n",
    "        return np.sign(Z @ w_t)\n",
    "    print(\"Với k =\", k)\n",
    "    E_in = np.mean(predict(train_X) != train_Y)\n",
    "    print(\"E_in =\", E_in)\n",
    "    E_out = np.mean(predict(test_X) != test_Y)\n",
    "    print(\"E_out =\", E_out)"
   ]
  },
  {
   "cell_type": "markdown",
   "metadata": {
    "deletable": false,
    "nbgrader": {
     "cell_type": "markdown",
     "checksum": "0b484b8390bec96142e8a1213ee8cd2c",
     "grade": true,
     "grade_id": "c5",
     "locked": false,
     "points": 1,
     "schema_version": 3,
     "solution": true,
     "task": false
    }
   },
   "source": [
    "Ta thấy với k = -1, thu được E_out nhỏ nhất ~= 0.056. Chọn [d] -1"
   ]
  },
  {
   "cell_type": "markdown",
   "metadata": {},
   "source": [
    "## Câu 6 (1 điểm)"
   ]
  },
  {
   "cell_type": "markdown",
   "metadata": {
    "deletable": false,
    "nbgrader": {
     "cell_type": "markdown",
     "checksum": "26f542221236fb24d0ddbee584eed7d0",
     "grade": true,
     "grade_id": "c6",
     "locked": false,
     "points": 1,
     "schema_version": 3,
     "solution": true,
     "task": false
    }
   },
   "source": [
    "Ta thấy với k = -1, thu được E_out nhỏ nhất ~= 0.056. Chọn [b] 0.06"
   ]
  },
  {
   "cell_type": "markdown",
   "metadata": {},
   "source": [
    "## Câu 7 (1 điểm)"
   ]
  },
  {
   "cell_type": "markdown",
   "metadata": {
    "deletable": false,
    "nbgrader": {
     "cell_type": "markdown",
     "checksum": "322a244b0fae3a20ec568a5099aaaec1",
     "grade": true,
     "grade_id": "c7",
     "locked": false,
     "points": 1,
     "schema_version": 3,
     "solution": true,
     "task": false
    }
   },
   "source": [
    "Ta có H(10, 0, 3) = H2, bởi vì w = 0 với mọi Q >= 3, tức là từ L3, L4, ...,L(Q).\n",
    "\n",
    "w có giá trị với L0, L1 và L2. \n",
    "\n",
    "Mặt khác ta thấy H(10, 0, 3) là tập con của H(10,0,4), vì vậy H(10,0,3) ∩ H(10,0,4) = H(10,0,3) = H2.\n",
    "Chọn [c] H(10, 0, 3) ∩ H(10, 0, 4) = H2"
   ]
  },
  {
   "cell_type": "markdown",
   "metadata": {},
   "source": [
    "## Câu 8 (1 điểm)"
   ]
  },
  {
   "cell_type": "markdown",
   "metadata": {},
   "source": [
    "- Forward\n",
    "\n",
    "layer1_1 = 3 * 6 = 18\n",
    "\n",
    "\n",
    "layer2_1 = 1 * 4 = 4\n",
    "\n",
    "\n",
    "operations1 = layer1_1 + layer2_1 = 22\n",
    "\n",
    "- Backward, tính delta_l trong hidden layer + output layer\n",
    "\n",
    "layer2_3 = 0 # delta_l output node là 0\n",
    "\n",
    "\n",
    "layer1_3 = 3 # bias neuron không có delta_l\n",
    "\n",
    "\n",
    "operations3 = layer2_3 + layer1_3 = 3\n",
    "\n",
    "- Vòng lặp thực hiện cả backward hay forward: Tính de/dw(i,j)(l) = x(l-1)*delta_l(l) (operations3)\n",
    "\n",
    "layer2_2 = 4\n",
    "\n",
    "\n",
    "layer1_2 = 3 * 6\n",
    "\n",
    "\n",
    "operations2 = layer2_2 + layer1_2 = 22\n",
    "\n",
    "- Total: operations1 + operations2 + operations3 = 22 + 22 + 3 = 47"
   ]
  },
  {
   "cell_type": "markdown",
   "metadata": {
    "deletable": false,
    "nbgrader": {
     "cell_type": "markdown",
     "checksum": "d81773f072cd15e4a27b6cd240a5d990",
     "grade": true,
     "grade_id": "c8",
     "locked": false,
     "points": 1,
     "schema_version": 3,
     "solution": true,
     "task": false
    }
   },
   "source": [
    "Chọn [d] 45"
   ]
  },
  {
   "cell_type": "markdown",
   "metadata": {},
   "source": [
    "## Câu 9 (1 điểm)"
   ]
  },
  {
   "cell_type": "markdown",
   "metadata": {
    "deletable": false,
    "nbgrader": {
     "cell_type": "markdown",
     "checksum": "e814a2db0b8a53e4fddfee4bcbf405fc",
     "grade": true,
     "grade_id": "c9",
     "locked": false,
     "points": 1,
     "schema_version": 3,
     "solution": true,
     "task": false
    }
   },
   "source": [
    "Em chọn câu [a] 46"
   ]
  },
  {
   "cell_type": "markdown",
   "metadata": {},
   "source": [
    "## Câu 10 (1 điểm)"
   ]
  },
  {
   "cell_type": "markdown",
   "metadata": {
    "deletable": false,
    "nbgrader": {
     "cell_type": "markdown",
     "checksum": "41cbf5c6d2b94eeae0a712be2181fef6",
     "grade": true,
     "grade_id": "c10",
     "locked": false,
     "points": 1,
     "schema_version": 3,
     "solution": true,
     "task": false
    }
   },
   "source": [
    "Em chọn câu [e] 510"
   ]
  }
 ],
 "metadata": {
  "kernelspec": {
   "display_name": "Python 3",
   "language": "python",
   "name": "python3"
  },
  "language_info": {
   "codemirror_mode": {
    "name": "ipython",
    "version": 3
   },
   "file_extension": ".py",
   "mimetype": "text/x-python",
   "name": "python",
   "nbconvert_exporter": "python",
   "pygments_lexer": "ipython3",
   "version": "3.7.6"
  },
  "toc": {
   "base_numbering": 1,
   "nav_menu": {},
   "number_sections": true,
   "sideBar": true,
   "skip_h1_title": false,
   "title_cell": "Table of Contents",
   "title_sidebar": "Contents",
   "toc_cell": false,
   "toc_position": {},
   "toc_section_display": true,
   "toc_window_display": false
  },
  "varInspector": {
   "cols": {
    "lenName": 16,
    "lenType": 16,
    "lenVar": 40
   },
   "kernels_config": {
    "python": {
     "delete_cmd_postfix": "",
     "delete_cmd_prefix": "del ",
     "library": "var_list.py",
     "varRefreshCmd": "print(var_dic_list())"
    },
    "r": {
     "delete_cmd_postfix": ") ",
     "delete_cmd_prefix": "rm(",
     "library": "var_list.r",
     "varRefreshCmd": "cat(var_dic_list()) "
    }
   },
   "types_to_exclude": [
    "module",
    "function",
    "builtin_function_or_method",
    "instance",
    "_Feature"
   ],
   "window_display": false
  }
 },
 "nbformat": 4,
 "nbformat_minor": 4
}
